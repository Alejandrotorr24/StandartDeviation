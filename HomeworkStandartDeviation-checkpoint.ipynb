{
 "cells": [
  {
   "cell_type": "code",
   "execution_count": 41,
   "metadata": {},
   "outputs": [
    {
     "name": "stdout",
     "output_type": "stream",
     "text": [
      "How many data do you want introduce?: 5\n",
      "Give me the value  1\n",
      "3\n",
      "Give me the value  2\n",
      "3\n",
      "Give me the value  3\n",
      "4\n",
      "Give me the value  4\n",
      "5\n",
      "Give me the value  5\n",
      "6\n",
      " Elija una opcion\n",
      "[1] Sample mean\n",
      "[2] Standart derivation \n",
      "[3] Moda\n",
      "3\n",
      "Your Moda is:  3\n"
     ]
    }
   ],
   "source": [
    "import math\n",
    "from collections import Counter\n",
    "\n",
    "d = int(input(\"How many data do you want introduce?: \"))\n",
    "ls=[]\n",
    "d1 = d\n",
    "add = 1\n",
    "s = 0\n",
    "a1=1\n",
    "n1=0\n",
    "while d >= 1:\n",
    "    print (\"Give me the value \",add)\n",
    "    d2 = int(input())\n",
    "    ls.append(d2)\n",
    "    s = d2 + s\n",
    "    d = d - 1\n",
    "    add = add + 1\n",
    "sm = s / d1    \n",
    "\n",
    "while d >= 1:\n",
    "    n1 = n1 + (ls[a1 - 1] - sm)\n",
    "    d1 = d1 - 1\n",
    "    a1 = a1 + 1\n",
    "opsd = n1 / d1\n",
    "sd = math.sqrt(opsd)\n",
    "m =Counter(ls).most_common()[0][0]\n",
    "\n",
    "print (''' Elija una opcion\n",
    "[1] Sample mean\n",
    "[2] Standart derivation \n",
    "[3] Moda''')\n",
    "opc = int(input())\n",
    "if opc == 1:\n",
    " print (\"Your Sample mean is: \",sm)\n",
    "if opc == 2:\n",
    " print (\"Your Standart Deviation is: \",sd)\n",
    "if opc ==3:\n",
    "    print (\"Your Moda is: \",m)\n",
    "    "
   ]
  },
  {
   "cell_type": "markdown",
   "metadata": {},
   "source": [
    "##### "
   ]
  },
  {
   "cell_type": "code",
   "execution_count": null,
   "metadata": {},
   "outputs": [],
   "source": []
  },
  {
   "cell_type": "code",
   "execution_count": null,
   "metadata": {},
   "outputs": [],
   "source": []
  }
 ],
 "metadata": {
  "kernelspec": {
   "display_name": "Python 3",
   "language": "python",
   "name": "python3"
  }
 },
 "nbformat": 4,
 "nbformat_minor": 2
}
